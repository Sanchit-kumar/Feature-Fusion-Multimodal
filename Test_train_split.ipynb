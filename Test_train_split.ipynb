{
  "cells": [
    {
      "cell_type": "markdown",
      "source": [
        "**It is used to create test vs train split of the dataset and apply data augmentation techniques to generate better results.**"
      ],
      "metadata": {
        "id": "tZEZT-zSIZ89"
      },
      "id": "tZEZT-zSIZ89"
    },
    {
      "cell_type": "code",
      "execution_count": null,
      "id": "5bfce80b",
      "metadata": {
        "id": "5bfce80b",
        "outputId": "17a3bef3-fda6-4e44-eaca-42bcd4b25be1"
      },
      "outputs": [
        {
          "name": "stdout",
          "output_type": "stream",
          "text": [
            "/workspace/home/Digital-SC_dataset2_final_segmentation\n",
            "Collecting opencv-contrib-python-headless\n",
            "  Downloading opencv_contrib_python_headless-4.5.5.64-cp36-abi3-manylinux_2_17_x86_64.manylinux2014_x86_64.whl (54.0 MB)\n",
            "\u001b[K     |████████████████████████████████| 54.0 MB 464 kB/s eta 0:00:013\n",
            "\u001b[?25hRequirement already satisfied: numpy>=1.17.3 in /usr/local/lib/python3.8/dist-packages (from opencv-contrib-python-headless) (1.17.3)\n",
            "Installing collected packages: opencv-contrib-python-headless\n",
            "Successfully installed opencv-contrib-python-headless-4.5.5.64\n",
            "\u001b[33mWARNING: Running pip as the 'root' user can result in broken permissions and conflicting behaviour with the system package manager. It is recommended to use a virtual environment instead: https://pip.pypa.io/warnings/venv\u001b[0m\n",
            "\u001b[33mWARNING: You are using pip version 21.2.4; however, version 22.0.4 is available.\n",
            "You should consider upgrading via the '/usr/bin/python -m pip install --upgrade pip' command.\u001b[0m\n"
          ]
        }
      ],
      "source": [
        "!pwd \n",
        "!pip install opencv-contrib-python-headless  ##Command to install open cv on gpu (Nvidia DGX server in our case)"
      ]
    },
    {
      "cell_type": "code",
      "execution_count": null,
      "id": "c3eceb5c",
      "metadata": {
        "id": "c3eceb5c"
      },
      "outputs": [],
      "source": [
        "import numpy as np \n",
        "import pandas as pd \n",
        "import matplotlib.pyplot as plt\n",
        "import glob\n",
        "import cv2\n",
        "import pickle\n",
        "import os\n",
        "import os\n"
      ]
    },
    {
      "cell_type": "code",
      "execution_count": null,
      "id": "82e18252",
      "metadata": {
        "id": "82e18252"
      },
      "outputs": [],
      "source": [
        "#SAVING IMAGES IN 640 X 480 SHAPE\n",
        "SIZE_X = 480\n",
        "SIZE_Y = 640\n",
        "IMG_SIZE = 352\n",
        "input_shape=(SIZE_X, SIZE_Y, 3)"
      ]
    },
    {
      "cell_type": "code",
      "execution_count": null,
      "id": "83ca6575",
      "metadata": {
        "id": "83ca6575",
        "outputId": "5621edea-3ccb-428e-8f43-948b88639527"
      },
      "outputs": [
        {
          "name": "stdout",
          "output_type": "stream",
          "text": [
            "{'cow': 0, 'cats': 1, 'human': 2, 'goat': 3, 'birds': 4, 'dog': 5, 'buffalo': 6, 'deer': 7}\n",
            "{0: 'cow', 1: 'cats', 2: 'human', 3: 'goat', 4: 'birds', 5: 'dog', 6: 'buffalo', 7: 'deer'}\n"
          ]
        }
      ],
      "source": [
        "### CHECKING THE DATASET CATEGORY---AND ALLOCATING THE INDEX FOR THE CATEGORY  (ALSO PRINTING JUST FOR A SANITY CHECK)\n",
        "import os\n",
        "category=os.listdir(\"Our_dataset/GT/\")\n",
        "intruder_to_index={}\n",
        "index_to_intruder={}\n",
        "i=0\n",
        "for intruder in category:\n",
        "    intruder_to_index[intruder]=i\n",
        "    index_to_intruder[i]=intruder\n",
        "    i+=1\n",
        "print(intruder_to_index)\n",
        "print(index_to_intruder)"
      ]
    },
    {
      "cell_type": "code",
      "execution_count": null,
      "id": "15c207eb",
      "metadata": {
        "id": "15c207eb"
      },
      "outputs": [],
      "source": [
        "## TEST AND TRAIN DATA FOR RESPECTIVE MODELS \n",
        "X_train=[]\n",
        "X_test=[]\n",
        "X_train_t=[]\n",
        "X_test_t=[]\n",
        "y_train=[]\n",
        "y_test=[]\n",
        "X_train_label=[]\n",
        "y_train_label=[]\n",
        "X_test_label=[]\n",
        "y_train_label=[]"
      ]
    },
    {
      "cell_type": "code",
      "execution_count": null,
      "id": "b6b16bc7",
      "metadata": {
        "id": "b6b16bc7",
        "outputId": "4e447826-83f4-4767-e7ff-56c525fffd74"
      },
      "outputs": [
        {
          "name": "stdout",
          "output_type": "stream",
          "text": [
            "{'cow': 0, 'cats': 1, 'human': 2, 'goat': 3, 'birds': 4, 'dog': 5, 'buffalo': 6, 'deer': 7}\n",
            "{0: 'cow', 1: 'cats', 2: 'human', 3: 'goat', 4: 'birds', 5: 'dog', 6: 'buffalo', 7: 'deer'}\n"
          ]
        }
      ],
      "source": [
        "print(intruder_to_index)\n",
        "print(index_to_intruder)"
      ]
    },
    {
      "cell_type": "markdown",
      "source": [
        "**SINCE DATA IS AVAILABLE IN THE BAD FORMAT, NEED TO CODE FOR DIFFERENT FOLDER AND RESPECTIVE DATA DIRECTORY FORMAT FOLLOWED.**"
      ],
      "metadata": {
        "id": "L-ZaUJFvKLYJ"
      },
      "id": "L-ZaUJFvKLYJ"
    },
    {
      "cell_type": "code",
      "execution_count": null,
      "id": "2ef0e69c",
      "metadata": {
        "id": "2ef0e69c"
      },
      "outputs": [],
      "source": [
        "PATH_GT=\"Our_dataset/GT/\"\n",
        "path_rgb1=\"Our_dataset/RGB/\"\n",
        "path_rgb2=\"Our_dataset/RGB_local/\"\n",
        "path_thermal=\"Our_dataset/thermal/\"\n",
        "path_thermal2=\"Our_dataset/thermal_local/\"\n",
        "\n",
        "path=PATH_GT+intruder\n",
        "\n",
        "rgb=path_rgb2\n",
        "thermal=path_thermal2\n",
        "images=os.listdir(rgb)\n",
        "t_xtrain=[]\n",
        "t_xtrain_gt=[]\n",
        "t_xtrain_thermal=[]\n",
        "t_label=[]\n",
        "\n",
        "\n",
        "for img_name in images:\n",
        "    if (os.path.isfile(thermal+img_name)):\n",
        "        if (os.path.isfile(PATH_GT+\"cow/\"+img_name) or os.path.isfile(PATH_GT+\"goat/\"+img_name) or os.path.isfile(PATH_GT+\"human/\"+img_name) or os.path.isfile(PATH_GT+\"buffalo/\"+img_name) or (os.path.isfile(PATH_GT+\"dog/\"+img_name))):\n",
        "            ##READ GT and label\n",
        "            \n",
        "            label=[0]*len(category)\n",
        "            image_gt=np.array([[0]*SIZE_Y]*SIZE_X)\n",
        "            sub_intruder=[\"cow\",\"dog\",\"goat\",\"human\",\"buffalo\"]  ##REQUIRED TO MAKE MULTI-LABEL VECTOR\n",
        "            for sub_cat in sub_intruder:\n",
        "                path=PATH_GT+sub_cat+\"/\"+img_name\n",
        "                \n",
        "                if os.path.isfile(path):\n",
        "                    img = cv2.imread(path)\n",
        "                    img = cv2.resize(img, (SIZE_Y, SIZE_X))\n",
        "                    img = cv2.cvtColor(img, cv2.COLOR_BGR2GRAY)\n",
        "                    image_gt=image_gt+img\n",
        "                    label[intruder_to_index[sub_cat]]=1\n",
        "                \n",
        "            t_xtrain_gt.append(image_gt)\n",
        "            t_label.append(label)\n",
        "\n",
        "\n",
        "            ##READ RGB\n",
        "\n",
        "            path=rgb+img_name\n",
        "            img = cv2.imread(path, cv2.IMREAD_COLOR)\n",
        "            img = cv2.resize(img, (SIZE_Y, SIZE_X))\n",
        "            img = cv2.cvtColor(img, cv2.COLOR_RGB2BGR)\n",
        "            t_xtrain.append(img)\n",
        "\n",
        "            ##READ THERMAL\n",
        "\n",
        "            path=thermal+img_name\n",
        "            img = cv2.imread(path, cv2.IMREAD_COLOR)\n",
        "            img = cv2.resize(img, (SIZE_Y, SIZE_X))\n",
        "            img = cv2.cvtColor(img, cv2.COLOR_RGB2BGR)\n",
        "            t_xtrain_thermal.append(img)\n",
        "\n",
        "\n",
        "    \n"
      ]
    },
    {
      "cell_type": "code",
      "execution_count": null,
      "id": "8d3c5d93",
      "metadata": {
        "id": "8d3c5d93",
        "outputId": "48c6dc5b-a0fe-4cdc-da51-5eee266b26b6"
      },
      "outputs": [
        {
          "name": "stdout",
          "output_type": "stream",
          "text": [
            "81\n"
          ]
        }
      ],
      "source": [
        "print(len(t_xtrain_gt))"
      ]
    },
    {
      "cell_type": "code",
      "execution_count": null,
      "id": "9cf11ec2",
      "metadata": {
        "id": "9cf11ec2"
      },
      "outputs": [],
      "source": [
        "rgb=path_rgb1\n",
        "thermal=path_thermal\n",
        "images=os.listdir(rgb)\n",
        "for img_name in images:\n",
        "#     print(thermal+img_name)\n",
        "    if (os.path.isfile(thermal+img_name)):\n",
        "        if (os.path.isfile(PATH_GT+\"deer/\"+img_name) or os.path.isfile(PATH_GT+\"birds/\"+img_name) or os.path.isfile(PATH_GT+\"cats/\"+img_name)):\n",
        "            \n",
        "            ##READ GT and label\n",
        "            \n",
        "            label=[0]*len(category)\n",
        "            image_gt=np.array([[0]*SIZE_Y]*SIZE_X)\n",
        "            sub_intruder=[\"deer\",\"birds\",\"cats\"]\n",
        "            \n",
        "            for sub_cat in sub_intruder:\n",
        "                path=PATH_GT+sub_cat+\"/\"+img_name\n",
        "                \n",
        "                if os.path.isfile(path):\n",
        "                    img = cv2.imread(path)\n",
        "                    img = cv2.resize(img, (SIZE_Y, SIZE_X))\n",
        "                    img = cv2.cvtColor(img, cv2.COLOR_BGR2GRAY)\n",
        "#                     img = cv2.cvtColor(img, cv2.COLOR_RGB2BGR)\n",
        "                    image_gt=image_gt+img\n",
        "                    label[intruder_to_index[sub_cat]]=1\n",
        "                \n",
        "            t_xtrain_gt.append(image_gt)\n",
        "            t_label.append(label)\n",
        "\n",
        "\n",
        "            ##READ RGB\n",
        "\n",
        "            path=rgb+img_name\n",
        "            img = cv2.imread(path, cv2.IMREAD_COLOR)\n",
        "            img = cv2.resize(img, (SIZE_Y, SIZE_X))\n",
        "            img = cv2.cvtColor(img, cv2.COLOR_RGB2BGR)\n",
        "            t_xtrain.append(img)\n",
        "\n",
        "            ##READ THERMAL\n",
        "\n",
        "            path=thermal+img_name\n",
        "            img = cv2.imread(path, cv2.IMREAD_COLOR)\n",
        "            img = cv2.resize(img, (SIZE_Y, SIZE_X))\n",
        "            img = cv2.cvtColor(img, cv2.COLOR_RGB2BGR)\n",
        "            t_xtrain_thermal.append(img)"
      ]
    },
    {
      "cell_type": "code",
      "execution_count": null,
      "id": "1e896a97",
      "metadata": {
        "id": "1e896a97",
        "outputId": "b18228f0-b4b4-4789-dc8d-8fbcd962c16f"
      },
      "outputs": [
        {
          "name": "stdout",
          "output_type": "stream",
          "text": [
            "123\n"
          ]
        }
      ],
      "source": [
        "print(len(t_xtrain_gt))\n"
      ]
    },
    {
      "cell_type": "code",
      "execution_count": null,
      "id": "3f748c86",
      "metadata": {
        "id": "3f748c86"
      },
      "outputs": [],
      "source": [
        "PATH_GT=\"campus_dataset/GT_campus/\"\n",
        "path=PATH_GT+intruder\n",
        "\n",
        "rgb=\"campus_dataset/RGB_campus/\"\n",
        "thermal=\"campus_dataset/thermal_campus/\"\n",
        "images=os.listdir(rgb)\n",
        "\n",
        "for img_name in images:\n",
        "    if (os.path.isfile(thermal+img_name)):\n",
        "        if (os.path.isfile(PATH_GT+\"birds/\"+img_name) or os.path.isfile(PATH_GT+\"dog/\"+img_name) or os.path.isfile(PATH_GT+\"human/\"+img_name)):\n",
        "            \n",
        "            label=[0]*len(category)\n",
        "            image_gt=np.array([[0]*SIZE_Y]*SIZE_X)\n",
        "            sub_intruder=[\"birds\",\"dog\",\"human\"]\n",
        "            for sub_cat in sub_intruder:\n",
        "                path=PATH_GT+sub_cat+\"/\"+img_name\n",
        "                \n",
        "                if os.path.isfile(path):\n",
        "                    img = cv2.imread(path)\n",
        "                    img = cv2.resize(img, (SIZE_Y, SIZE_X))\n",
        "                    img = cv2.cvtColor(img, cv2.COLOR_BGR2GRAY)\n",
        "#                     img = cv2.cvtColor(img, cv2.COLOR_RGB2BGR)\n",
        "#                     img = np.expand_dims((np.array(img)),3)\n",
        "                    image_gt=image_gt+img\n",
        "                    label[intruder_to_index[sub_cat]]=1\n",
        "                \n",
        "            t_xtrain_gt.append(image_gt)\n",
        "            t_label.append(label)\n",
        "\n",
        "\n",
        "            ##READ RGB\n",
        "\n",
        "            path=rgb+img_name\n",
        "            img = cv2.imread(path, cv2.IMREAD_COLOR)\n",
        "            img = cv2.resize(img, (SIZE_Y, SIZE_X))\n",
        "            img = cv2.cvtColor(img, cv2.COLOR_RGB2BGR)\n",
        "            t_xtrain.append(img)\n",
        "\n",
        "            ##READ THERMAL\n",
        "\n",
        "            path=thermal+img_name\n",
        "            img = cv2.imread(path, cv2.IMREAD_COLOR)\n",
        "            img = cv2.resize(img, (SIZE_Y, SIZE_X))\n",
        "            img = cv2.cvtColor(img, cv2.COLOR_RGB2BGR)\n",
        "            t_xtrain_thermal.append(img)\n",
        "\n"
      ]
    },
    {
      "cell_type": "code",
      "execution_count": null,
      "id": "4041cd76",
      "metadata": {
        "id": "4041cd76",
        "outputId": "537759d6-a1f4-4979-e71e-d67c6e0ea965"
      },
      "outputs": [
        {
          "name": "stdout",
          "output_type": "stream",
          "text": [
            "230 230 230 230\n"
          ]
        }
      ],
      "source": [
        "print(len(t_label),len(t_xtrain),len(t_xtrain_gt),len(t_xtrain_thermal))"
      ]
    },
    {
      "cell_type": "code",
      "execution_count": null,
      "id": "2d76b1c1",
      "metadata": {
        "id": "2d76b1c1"
      },
      "outputs": [],
      "source": [
        "def print_train(index,gt,ir,gb,d): ##CAN DISPLAY THE RESPECTIVE INDEX VALUE FOR ALL DIFFERENT FORMAT\n",
        "    plt.imshow(gt[index])\n",
        "    plt.show()\n",
        "    plt.imshow(ir[index])\n",
        "    plt.show()\n",
        "    plt.imshow(gb[index])\n",
        "    plt.show()\n",
        "    print(d[index])\n",
        "    print(\"--------------------------------------------------------------\")\n",
        "    "
      ]
    },
    {
      "cell_type": "markdown",
      "source": [
        "**Spliting the dataset below.**"
      ],
      "metadata": {
        "id": "DHbC25rQLPH7"
      },
      "id": "DHbC25rQLPH7"
    },
    {
      "cell_type": "code",
      "execution_count": null,
      "id": "bfd4b7ac",
      "metadata": {
        "id": "bfd4b7ac"
      },
      "outputs": [],
      "source": [
        "from sklearn.model_selection import train_test_split\n",
        "zX_train, X_test, zX_train_t ,X_test_t, zy_train, y_test, zy_train_label,y_test_label  = train_test_split(t_xtrain,t_xtrain_thermal,t_xtrain_gt,t_label,test_size = 0.2, random_state = 5)\n"
      ]
    },
    {
      "cell_type": "markdown",
      "source": [
        "**For data augmentation, we have rotated each image in all 4 direction that is original and 90,180 and 270 degree rotated image. Each image is further augmented by reducing the contrass and brightness upto listed values in code. This augmentation leads to improve the results by 10% in evaluation matrices which we have used while training the model using these images.**"
      ],
      "metadata": {
        "id": "njvBLJ88La6k"
      },
      "id": "njvBLJ88La6k"
    },
    {
      "cell_type": "code",
      "execution_count": null,
      "id": "36d255ce",
      "metadata": {
        "id": "36d255ce"
      },
      "outputs": [],
      "source": [
        "def change_brightness(img, value=30):\n",
        "    hsv = cv2.cvtColor(img, cv2.COLOR_BGR2HSV)\n",
        "    h, s, v = cv2.split(hsv)\n",
        "\n",
        "    v=cv2.add(v,value)\n",
        "    v[v > 255] = 255\n",
        "    v[v <= 0] =0\n",
        "\n",
        "    final_hsv = cv2.merge((h, s, v))\n",
        "    img = cv2.cvtColor(final_hsv, cv2.COLOR_HSV2BGR)\n",
        "    return img\n",
        "\n",
        "def change_contrass(img):\n",
        "    beta=0\n",
        "    alpha=random.uniform(0.3, 1)\n",
        "    nimg= cv2.convertScaleAbs(img, alpha=alpha, beta=beta)\n",
        "    return nimg"
      ]
    },
    {
      "cell_type": "markdown",
      "source": [
        "**CONVERTING TO NP ARRAY TYPE**"
      ],
      "metadata": {
        "id": "2LuMX6ENMfHy"
      },
      "id": "2LuMX6ENMfHy"
    },
    {
      "cell_type": "code",
      "execution_count": null,
      "id": "668eb0f3",
      "metadata": {
        "id": "668eb0f3",
        "outputId": "17a4cd7d-c2b6-4853-bb9f-a7c7e2aef1dc"
      },
      "outputs": [
        {
          "name": "stdout",
          "output_type": "stream",
          "text": [
            "184\n"
          ]
        }
      ],
      "source": [
        "N_train=len(zX_train)\n",
        "print(N_train)\n",
        "zX_train=np.array(zX_train)\n",
        "zX_train_t=np.array(zX_train_t)\n",
        "zy_train=np.array(zy_train)\n",
        "zy_train_label=np.array(zy_train_label)"
      ]
    },
    {
      "cell_type": "markdown",
      "source": [
        "**Traversing each image from test dataset and adding the respected augmented images.**"
      ],
      "metadata": {
        "id": "eekGtKBdMnLI"
      },
      "id": "eekGtKBdMnLI"
    },
    {
      "cell_type": "code",
      "execution_count": null,
      "id": "9caf780a",
      "metadata": {
        "id": "9caf780a"
      },
      "outputs": [],
      "source": [
        "import random\n",
        "for i in range(N_train):\n",
        "    \n",
        "    ##original reading\n",
        "    img=zX_train[i]\n",
        "    img_t=zX_train_t[i]\n",
        "    img_gt=zy_train[i]\n",
        "    lbl=zy_train_label[i]\n",
        "    \n",
        "    for r in range(4):\n",
        "        img=np.rot90(img)\n",
        "        img_t=np.rot90(img_t)\n",
        "        img_gt=np.rot90(img_gt)\n",
        "    \n",
        "        ##Normal \n",
        "        \n",
        "        X_train.append(img)\n",
        "        X_train_t.append(img_t)\n",
        "        y_train.append(img_gt)\n",
        "        y_train_label.append(lbl)\n",
        "\n",
        "        ##change brightness (random 3)\n",
        "        for j in range(3):\n",
        "            bcoeff=random.randint(30,255)-255\n",
        "            temp=change_brightness(img,bcoeff)\n",
        "            \n",
        "            X_train.append(temp)\n",
        "            ##same\n",
        "            X_train_t.append(img_t)\n",
        "            y_train.append(img_gt)\n",
        "            y_train_label.append(lbl)\n",
        "\n",
        "        ## change contrass (random 3)\n",
        "\n",
        "        for j in range(3):\n",
        "            temp=change_contrass(img)\n",
        "\n",
        "            X_train.append(temp)\n",
        "            ##same\n",
        "            X_train_t.append(img_t)\n",
        "            y_train.append(img_gt)\n",
        "            y_train_label.append(lbl)\n"
      ]
    },
    {
      "cell_type": "code",
      "execution_count": null,
      "id": "686815c6",
      "metadata": {
        "id": "686815c6"
      },
      "outputs": [],
      "source": [
        "#### CONVERTING EACH LIST TO NP ARRAY TYPE \n",
        "\n",
        "X_test=np.array(X_test)\n",
        "X_test_label=np.array(X_test_label)\n",
        "X_test_t=np.array(X_test_t)\n",
        "y_test=np.array(y_test)\n",
        "y_test_label=np.array(y_test_label)\n",
        "X_train_t=np.array(X_train_t)\n",
        "y_train=np.array(y_train)\n",
        "y_train_label=np.array(y_train_label)\n",
        "X_train=np.array(X_train)"
      ]
    },
    {
      "cell_type": "code",
      "execution_count": null,
      "id": "1322e6c9",
      "metadata": {
        "id": "1322e6c9"
      },
      "outputs": [],
      "source": [
        "### SINCE GROUND TRUTH IMAGES ARE OF 2 DIM. ONLY, WE WILL EXTEND THE DIMENSION OF THE IMAGE FOR PROPER TRAINING\n",
        "y_train = np.expand_dims((np.array(y_train)),3)\n",
        "y_test = np.expand_dims((np.array(y_test)),3)"
      ]
    },
    {
      "cell_type": "code",
      "execution_count": null,
      "id": "7137a9c6",
      "metadata": {
        "id": "7137a9c6",
        "outputId": "bcedf5a1-ecb2-43b7-d0e0-73baf40f4c6d"
      },
      "outputs": [
        {
          "name": "stdout",
          "output_type": "stream",
          "text": [
            "(46, 352, 352, 3) (46, 8) (46, 352, 352, 1) (46, 352, 352, 3) (46, 352, 352, 1) (5152, 352, 352, 1) (5152, 8) (5152, 352, 352, 3) (5152, 8) (5152, 352, 352, 3)\n"
          ]
        }
      ],
      "source": [
        "print(X_test.shape,y_test_label.shape,y_test.shape,X_test_t.shape,y_test.shape,y_train.shape,y_train_label.shape,X_train.shape,y_train_label.shape,X_train_t.shape)"
      ]
    },
    {
      "cell_type": "code",
      "execution_count": null,
      "id": "21336b2a",
      "metadata": {
        "id": "21336b2a"
      },
      "outputs": [],
      "source": [
        "###NORMALIZING THE IMAGE FROM 0 TO 1 RANGE\n",
        "X_test=X_test/255.\n",
        "X_test_t=X_test_t/255.\n",
        "X_train_t=X_train_t/255.\n",
        "X_train=X_train/255."
      ]
    },
    {
      "cell_type": "code",
      "execution_count": null,
      "id": "7d010bf3",
      "metadata": {
        "id": "7d010bf3"
      },
      "outputs": [],
      "source": [
        "t_train=y_train\n",
        "t_test=y_test\n",
        "\n",
        "##DUE TO INCONSISTENCY IN THE GROUND TRUTH LABEL SEGMENTED IMAGE, WE WILL FURTHER DO THE THRESHOLD OF THE IMAGE TO GET ONLY 0 OR 1 IN THE FINAL NORMALIZE IMAGE (IN FLOATING FORMAT)\n",
        "y_train=(y_train>50)/1.0\n",
        "y_test=(y_test>50)/1.0"
      ]
    },
    {
      "cell_type": "code",
      "execution_count": null,
      "id": "79740172",
      "metadata": {
        "id": "79740172"
      },
      "outputs": [],
      "source": [
        "X_test=t_xtrain\n",
        "y_test=t_xtrain_gt\n",
        "X_test_t=t_xtrain_thermal"
      ]
    },
    {
      "cell_type": "markdown",
      "source": [
        "**Saving image for the reference as per requirement**"
      ],
      "metadata": {
        "id": "Njhh4o6BPFLX"
      },
      "id": "Njhh4o6BPFLX"
    },
    {
      "cell_type": "code",
      "execution_count": null,
      "id": "e15e163b",
      "metadata": {
        "id": "e15e163b"
      },
      "outputs": [],
      "source": [
        "import random\n",
        "\n",
        "index=random.randint(0,len(X_test))\n",
        "folder=\"dataset\"\n",
        "for i in range(len(X_test)):\n",
        "    index=i\n",
        "    img=X_test[index]\n",
        "    mask=y_test[index]\n",
        "    img_t=X_test_t[index]\n",
        "#     print(index)\n",
        "\n",
        "#     import matplotlib.pyplot as plt\n",
        "#     plt.imshow(img)\n",
        "    plt.imsave(folder+\"/\"+str(index)+\"_RGB.png\",img)\n",
        "    plt.show()\n",
        "# # #     cv2.imwrite(\"predicted_images/\"+str(index)+\"RGB.png\",img*255)\n",
        "# # # #     cv2.waitKey(0)\n",
        "# # # #     p\n",
        "#     plt.show();\n",
        "#     plt.imshow(img_t)\n",
        "#     cv2.imwrite(folder+str(index)+\"THERMAL.png\",img_t)\n",
        "    plt.imsave(folder+\"/\"+str(index)+\"_THERMAL.png\",img_t)\n",
        "    plt.show()\n",
        "\n",
        "# # # #     cv2.waitKey(0)\n",
        "#     plt.show()\n",
        "# #     plt.imshow(mask)\n",
        "#     cv2.imwrite(folder+str(index)+\"GT.png\",mask*255)\n",
        "    plt.imsave(folder+\"/\"+str(index)+\"_GT.png\",mask)\n",
        "    plt.show()\n",
        "\n",
        "# #     cv2.waitKey(0)\n",
        "# #     plt.show()\n",
        "\n",
        "#     print(\"#####  PREDICTED  ######\")\n",
        "#     x=np.array([img])\n",
        "#     x_t=np.array([img_t])\n",
        "#     y_output=model.predict([x,x_t])\n",
        "#     # cv2.imwrite(\"predicted_images/\"+str(index)+\".png\",y_output[0]>0.5)\n",
        "\n",
        "# #     plt.imshow(y_output[0]>=0.5,cmap='gray')\n",
        "#     # plt.show()\n",
        "\n",
        "#     saliencyMap = (y_output[0] * 255).astype(\"uint8\")\n",
        "#     otsu_threshold, image_result = cv2.threshold(saliencyMap, 0, 255, cv2.THRESH_BINARY + cv2.THRESH_OTSU)\n",
        "#     print(\"Obtained threshold: \", otsu_threshold)\n",
        "#     plt.imshow(image_result,cmap='gray')\n",
        "#     cv2.imwrite(\"predicted_images/\"+str(index)+\"PREDICTED.png\",image_result)\n",
        "#     plt.imsave(\"predicted_images/\"+str(index)+\"PREDICTED.png\",image_result,cmap='gray')\n",
        "#     plt.show()\n",
        "    #     cv2.waitKey(0)\n",
        "\n",
        "# # plt.show()\n",
        "# plt.imsave(image_result)\n",
        "# plt.imsave(\"graphs/b200_2otsu.png\",image_result,cmap='gray')"
      ]
    },
    {
      "cell_type": "code",
      "execution_count": null,
      "id": "13f0509f",
      "metadata": {
        "id": "13f0509f"
      },
      "outputs": [],
      "source": [
        "####### SAVING THE ARRAYS OF TEST AND TRAIN FOR FURTHER USE #########\n",
        "\n",
        "\n",
        "np.save(\"new_split_data/X_train.npy\",X_train)\n",
        "np.save(\"new_split_data/X_test.npy\",X_test)\n",
        "np.save(\"new_split_data/X_train_t.npy\",X_train_t)\n",
        "np.save(\"new_split_data/X_test_t.npy\",X_test_t)\n",
        "np.save(\"new_split_data/y_train.npy\",y_train)\n",
        "np.save(\"new_split_data/y_test.npy\",y_test)\n",
        "np.save(\"new_split_data/y_test_label.npy\",y_test_label)\n",
        "np.save(\"new_split_data/y_train_label.npy\",y_train_label)\n",
        "\n",
        "\n",
        "#### LOADING TEST AND TRAIN ARRAYS ########\n",
        "\n",
        "X_train=np.load(\"label_split_data/X_train.npy\")\n",
        "X_test=np.load(\"label_split_data/X_test.npy\")\n",
        "X_train_t=np.load(\"label_split_data/X_train_t.npy\")\n",
        "X_test_t=np.load(\"label_split_data/X_test_t.npy\")\n",
        "y_train=np.load(\"label_split_data/y_train.npy\")\n",
        "y_test=np.load(\"label_split_data/y_test.npy\")\n",
        "y_test_label=np.load(\"label_split_data/y_test_label.npy\")\n",
        "y_train_label=np.load(\"label_split_data/y_train_label.npy\")\n"
      ]
    },
    {
      "cell_type": "code",
      "execution_count": null,
      "id": "ff4ad51c",
      "metadata": {
        "id": "ff4ad51c",
        "outputId": "9c6069c9-627d-4db0-aba9-265fa5341c6b"
      },
      "outputs": [
        {
          "data": {
            "image/png": "[encoded data removed]",
            "text/plain": [
              "<Figure size 432x288 with 1 Axes>"
            ]
          },
          "metadata": {
            "needs_background": "light"
          },
          "output_type": "display_data"
        }
      ],
      "source": [
        "########  PRINTING A SAMPLE GROUND TRUTH IMAGE ############\n",
        "\n",
        "img = cv2.imread(\"campus_dataset/GT_campus/human/IR_00105.png\",0)\n",
        "# img=cv2.imread(\"a.png\",0)\n",
        "img = cv2.resize(img, (SIZE_Y, SIZE_X))\n",
        "# img = cv2.cvtColor(img, cv2.COLOR_BGR2RGB)\n",
        "# # print(img)\n",
        "plt.imshow(img>10)\n",
        "plt.show()\n",
        "# cv2.imwrite(\"predicted_images/\"+str(21)+\"GT.png\",img)\n"
      ]
    }
  ],
  "metadata": {
    "kernelspec": {
      "display_name": "Python 3 (ipykernel)",
      "language": "python",
      "name": "python3"
    },
    "language_info": {
      "codemirror_mode": {
        "name": "ipython",
        "version": 3
      },
      "file_extension": ".py",
      "mimetype": "text/x-python",
      "name": "python",
      "nbconvert_exporter": "python",
      "pygments_lexer": "ipython3",
      "version": "3.8.10"
    },
    "colab": {
      "name": "Test_train_split.ipynb",
      "provenance": []
    }
  },
  "nbformat": 4,
  "nbformat_minor": 5
}