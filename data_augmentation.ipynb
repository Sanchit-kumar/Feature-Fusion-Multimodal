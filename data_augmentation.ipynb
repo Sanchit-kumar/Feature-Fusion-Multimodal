{
 "cells": [
  {
   "cell_type": "code",
   "execution_count": 29,
   "id": "5fad6620",
   "metadata": {},
   "outputs": [
    {
     "name": "stdout",
     "output_type": "stream",
     "text": [
      "increase data.........\n",
      "completed.......\n"
     ]
    }
   ],
   "source": [
    "import tensorflow as tf\n",
    "import numpy as np\n",
    "import glob #use to return all file path that match specific pattern\n",
    "import os\n",
    "import cv2\n",
    "\n",
    "#os.mkdir('RGB_90')\n",
    "#os.mkdir('RGB_180')\n",
    "#os.mkdir('RGB_270')\n",
    "\n",
    "#os.mkdir('RGB_90')\n",
    "#os.mkdir('RGB_90')\n",
    "#os.mkdir('RGB_90')\n",
    "#os.mkdir('RGB_90')\n",
    "\n",
    "\n",
    "to_dir=\"DATA/thermal\"\n",
    "paths=glob.glob('DATA/thermal/*')\n",
    "print('increase data.........')\n",
    "\n",
    "for path in paths:\n",
    "        \n",
    "        #sprint(path)\n",
    "        image = cv2.imread(path)\n",
    "        dirname,filename=os.path.split(path)\n",
    "        img_1_90 = np.rot90(image)\n",
    "        img_1_180 = np.rot90(img_1_90)\n",
    "        img_1_270 = np.rot90(img_1_180)\n",
    "\n",
    "        #######flip image\n",
    "        img_flip1 = cv2.flip(image,1)   #横向翻转图像\n",
    "        img_1_90_h = np.rot90(img_flip1)\n",
    "        img_1_180_h = np.rot90(img_1_90_h)\n",
    "        img_1_270_h = np.rot90(img_1_180_h)\n",
    "        \n",
    "        #i+=1\n",
    "        save_name = os.path.join(to_dir, '90_' + filename)\n",
    "        #cv2.imwrite('./Datasets/train/aug_testimages/aug_%06d.bmp'%(i),image)\n",
    "        #i+=1\n",
    "        cv2.imwrite(save_name,img_1_90)\n",
    "        #i+=1\n",
    "        save_name = os.path.join(to_dir, '180_' + filename)\n",
    "        cv2.imwrite(save_name,img_1_180)\n",
    "        #i+=1\n",
    "        save_name = os.path.join(to_dir, '270_' + filename)\n",
    "        cv2.imwrite(save_name,img_1_270)\n",
    "        \n",
    "        \n",
    "        #i+=1\n",
    "        save_name = os.path.join(to_dir, 'flip_' + filename)\n",
    "        cv2.imwrite(save_name,img_flip1)\n",
    "        #i+=1\n",
    "        save_name = os.path.join(to_dir, 'flip_90_' + filename)\n",
    "        cv2.imwrite(save_name,img_1_90_h)\n",
    "        #i+=1\n",
    "        save_name = os.path.join(to_dir, 'flip_180_' + filename)\n",
    "        cv2.imwrite(save_name,img_1_180_h)\n",
    "        #i+=1\n",
    "        save_name = os.path.join(to_dir, 'flip_270_' + filename)\n",
    "        cv2.imwrite(save_name,img_1_270_h)\n",
    "    \n",
    "print('completed.......')\n",
    "    "
   ]
  },
  {
   "cell_type": "code",
   "execution_count": 27,
   "id": "bf0bea10",
   "metadata": {},
   "outputs": [],
   "source": [
    "# 8"
   ]
  },
  {
   "cell_type": "code",
   "execution_count": null,
   "id": "1c4331b9",
   "metadata": {},
   "outputs": [],
   "source": []
  }
 ],
 "metadata": {
  "kernelspec": {
   "display_name": "Python 3 (ipykernel)",
   "language": "python",
   "name": "python3"
  },
  "language_info": {
   "codemirror_mode": {
    "name": "ipython",
    "version": 3
   },
   "file_extension": ".py",
   "mimetype": "text/x-python",
   "name": "python",
   "nbconvert_exporter": "python",
   "pygments_lexer": "ipython3",
   "version": "3.8.10"
  }
 },
 "nbformat": 4,
 "nbformat_minor": 5
}
