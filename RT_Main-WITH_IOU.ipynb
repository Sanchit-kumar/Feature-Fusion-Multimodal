{
 "cells": [
  {
   "cell_type": "code",
   "execution_count": 1,
   "metadata": {},
   "outputs": [],
   "source": [
    "# !pip install pandas\n",
    "# !pip install opencv-python-headless\n",
    "# !pip install -U scikit-learn\n"
   ]
  },
  {
   "cell_type": "code",
   "execution_count": 2,
   "metadata": {},
   "outputs": [
    {
     "name": "stdout",
     "output_type": "stream",
     "text": [
      "['Subset.txt', 'thermal', 'RGB', 'GT']\n"
     ]
    }
   ],
   "source": [
    "# %load 159b_VGG16_imagenet_weights_RF_for_semantic.py\n",
    "\n",
    "\n",
    "import numpy as np \n",
    "import pandas as pd \n",
    "import matplotlib.pyplot as plt\n",
    "import glob\n",
    "import cv2\n",
    "import pickle\n",
    "\n",
    "from tensorflow.keras.models import Sequential, Model\n",
    "from tensorflow.keras.layers import Conv2D\n",
    "import os\n",
    "# from tensorflow.keras.applications.vgg16 import VGG16\n",
    "import tensorflow as tf\n",
    "from tensorflow.keras.models import Model\n",
    "import os\n",
    "from tensorflow.keras.applications.vgg16 import VGG16\n",
    "from tensorflow.keras.utils import plot_model\n",
    "from tensorflow.keras.models import Model\n",
    "from tensorflow.keras.layers import Input\n",
    "from tensorflow.keras.layers import Dense\n",
    "from tensorflow.keras.layers import Flatten\n",
    "# from tensorflow.keras.layers.convolutional import Conv2D\n",
    "from tensorflow.keras.layers import Conv2D, MaxPooling2D, concatenate,MaxPool2D\n",
    "\n",
    "from tensorflow.keras.models import Model\n",
    "from tensorflow.keras.layers import Input, Conv2D, MaxPooling2D, UpSampling2D, concatenate, Conv2DTranspose, BatchNormalization, Dropout, Lambda\n",
    "from tensorflow.keras import backend as K\n",
    "from tensorflow.keras.utils import normalize\n",
    "\n",
    "\n",
    "print(os.listdir(\"../data/\"))"
   ]
  },
  {
   "cell_type": "code",
   "execution_count": 3,
   "metadata": {},
   "outputs": [],
   "source": [
    "#Resizing images is optional, CNNs are ok with large images\n",
    "SIZE_X = 352 #Resize images (height  = X, width = Y)\n",
    "SIZE_Y = 352\n",
    "\n",
    "#Capture training image info as a list\n",
    "image_dataset = []\n",
    "\n",
    "for directory_path in glob.glob(\"../data/thermal\"):\n",
    "    for img_path in glob.glob(os.path.join(directory_path, \"*.jpg\")):\n",
    "        img = cv2.imread(img_path, cv2.IMREAD_COLOR)       \n",
    "        img = cv2.resize(img, (SIZE_Y, SIZE_X))\n",
    "        img = cv2.cvtColor(img, cv2.COLOR_RGB2BGR)\n",
    "        image_dataset.append(img/255.)\n",
    "        #train_labels.append(label)\n",
    "#Convert list to array for machine learning processing        \n",
    "image_dataset = np.array(image_dataset)"
   ]
  },
  {
   "cell_type": "code",
   "execution_count": 4,
   "metadata": {},
   "outputs": [],
   "source": [
    "#Capture mask/label info as a list\n",
    "image_dataset_rgb = []\n",
    "\n",
    "for directory_path in glob.glob(\"../data/RGB\"):\n",
    "    for img_path in glob.glob(os.path.join(directory_path, \"*.jpg\")):\n",
    "        img = cv2.imread(img_path, cv2.IMREAD_COLOR)       \n",
    "        img = cv2.resize(img, (SIZE_Y, SIZE_X))\n",
    "        img = cv2.cvtColor(img, cv2.COLOR_RGB2BGR)\n",
    "        image_dataset_rgb.append(img/255.)\n",
    "        #train_labels.append(label)\n",
    "#Convert list to array for machine learning processing        \n",
    "image_dataset_rgb = np.array(image_dataset_rgb)"
   ]
  },
  {
   "cell_type": "code",
   "execution_count": 5,
   "metadata": {},
   "outputs": [],
   "source": [
    "#Capture mask/label info as a list\n",
    "masks_dataset = [] \n",
    "for directory_path in glob.glob(\"../data/GT\"):\n",
    "    for mask_path in glob.glob(os.path.join(directory_path, \"*.jpg\")):\n",
    "        mask = cv2.imread(mask_path, 0)       \n",
    "        mask = cv2.resize(mask, (SIZE_Y, SIZE_X))\n",
    "        #mask = cv2.cvtColor(mask, cv2.COLOR_RGB2BGR)\n",
    "        masks_dataset.append(mask/255.)\n",
    "        #train_labels.append(label)\n",
    "#Convert list to array for machine learning processing          \n",
    "masks_dataset = np.array(masks_dataset)"
   ]
  },
  {
   "cell_type": "code",
   "execution_count": 6,
   "metadata": {},
   "outputs": [],
   "source": [
    "masks_dataset = np.expand_dims((np.array(masks_dataset)),3)"
   ]
  },
  {
   "cell_type": "code",
   "execution_count": 7,
   "metadata": {},
   "outputs": [
    {
     "name": "stdout",
     "output_type": "stream",
     "text": [
      "(821, 352, 352, 3) (821, 352, 352, 3) (821, 352, 352, 1)\n"
     ]
    }
   ],
   "source": [
    "print(image_dataset.shape,image_dataset_rgb.shape, masks_dataset.shape)"
   ]
  },
  {
   "cell_type": "code",
   "execution_count": 8,
   "metadata": {},
   "outputs": [],
   "source": [
    "# /////////////////"
   ]
  },
  {
   "cell_type": "code",
   "execution_count": null,
   "metadata": {},
   "outputs": [],
   "source": []
  },
  {
   "cell_type": "code",
   "execution_count": 9,
   "metadata": {},
   "outputs": [],
   "source": [
    "import numpy as np \n",
    "import pandas as pd \n",
    "import matplotlib.pyplot as plt\n",
    "import glob\n",
    "import cv2\n",
    "import pickle\n",
    "import tensorflow as tf\n",
    "from tensorflow.keras.models import Model\n",
    "import os\n",
    "from tensorflow.keras.applications.vgg16 import VGG16\n",
    "from tensorflow.keras.layers import concatenate\n",
    "from tensorflow.keras.utils import plot_model\n",
    "from tensorflow.keras.models import Model\n",
    "from tensorflow.keras.layers import Input\n",
    "from tensorflow.keras.layers import Dense\n",
    "from tensorflow.keras.layers import Flatten, UpSampling2D\n",
    "from tensorflow.image import ResizeMethod\n",
    "# from tensorflow.keras.layers.convolutional import Conv2D\n",
    "from tensorflow.keras.layers import Conv2D, MaxPooling2D, concatenate\n",
    "# import vgg_rgb as rgb\n",
    "# import vgg_thermal as thermal\n",
    "import T,R"
   ]
  },
  {
   "cell_type": "code",
   "execution_count": 10,
   "metadata": {},
   "outputs": [],
   "source": [
    "SIZE_X = 352\n",
    "SIZE_Y = 352\n",
    "IMG_SIZE = 352\n",
    "input_shape=(SIZE_X, SIZE_Y, 3)"
   ]
  },
  {
   "cell_type": "code",
   "execution_count": 11,
   "metadata": {},
   "outputs": [],
   "source": [
    "####CW----ATTENTION\n",
    "def attention(input_r,input_t,name=None):\n",
    "\n",
    "    con_temp=concatenate([input_r,input_t], axis=3)\n",
    "\n",
    "    attention1_=Conv2D(filters=256,kernel_size=(3,3),padding=\"same\", activation=None, use_bias=False)(con_temp)\n",
    "    attention2_=Conv2D(filters=256,kernel_size=(3,3),padding=\"same\", activation=None, use_bias=False)(attention1_)\n",
    "    weight=tf.keras.activations.softmax(attention2_)\n",
    "    w_r, w_t = tf.split(weight, 2, 3)\n",
    "    return w_r, w_t"
   ]
  },
  {
   "cell_type": "code",
   "execution_count": 12,
   "metadata": {},
   "outputs": [],
   "source": [
    "def global_attention_layer(input_x, name):\n",
    "     squeeze = tf.math.reduce_mean(input_x, [1, 2], name='squeeze', keepdims=True)\n",
    "     #Global_Average_Pooling(input_x)#net = tf.reduce_mean(net, [1, 2], name='pool5', keep_dims=True)\n",
    "\n",
    "#      ga = Conv_2d(squeeze, [1, 1, 128, 128],  0.01, padding='SAME', name=name + '_ga')\n",
    "     ga=Conv2D(filters=128, kernel_size=(1,1),padding=\"same\", activation=None, use_bias=False,name=name+\"_ga\")(squeeze)\n",
    "        #excitation = tf.nn.relu(excitation)\n",
    "     #excitation = self._fc_layer(excitation, units=out_dim, name=name+'_fully_connected2')\n",
    "     excitation = tf.keras.activations.sigmoid(ga)\n",
    "\n",
    "     #excitation = tf.reshape(excitation, [-1,1,1,out_dim])\n",
    "\n",
    "     #scale = input_x * ga\n",
    "\n",
    "     return excitation"
   ]
  },
  {
   "cell_type": "code",
   "execution_count": 13,
   "metadata": {},
   "outputs": [],
   "source": [
    "def upsampling_2d(tensor, name, size=(8,8)):\n",
    "        h_,w_,c_ = tensor.shape[1:]\n",
    "        h_multi,w_multi = size\n",
    "        h = tf.cast(h_multi * h_, dtype=tf.int32)\n",
    "        w = tf.cast(w_multi * w_, dtype=tf.int32)\n",
    "        target = tf.image.resize(tensor,size=(h,w),name='deconv_{}'.format(name))\n",
    "        tf.image.resize(tensor, size=(h,w), method=ResizeMethod.BILINEAR, preserve_aspect_ratio=False,\n",
    "                        antialias=False, name='deconv_{}'.format(name))\n",
    "#         x = np.arange(np.prod(tensor.shape)).reshape(tensor.shape)\n",
    "#         UpSampling2D(size=size, name=name)(x)\n",
    "        return target"
   ]
  },
  {
   "cell_type": "code",
   "execution_count": 14,
   "metadata": {},
   "outputs": [
    {
     "name": "stdout",
     "output_type": "stream",
     "text": [
      "T.py called--Model created\n",
      "R.py called--Model created\n"
     ]
    }
   ],
   "source": [
    "vgg_t= T.Model_t()\n",
    "\n",
    "vgg_t.build_model()\n",
    "vgg_r= R.Model_r()\n",
    "vgg_r.build_model()\n"
   ]
  },
  {
   "cell_type": "code",
   "execution_count": 15,
   "metadata": {},
   "outputs": [],
   "source": [
    "w1, w2 = attention(vgg_r.rconv2_5_, vgg_t.tconv2_5_)\n",
    "# print(w1)\n",
    "fusion_conv2 = w1*vgg_r.rconv2_5_ + w2*vgg_t.tconv2_5_\n",
    "\n",
    "# print(fusion_conv2)\n",
    "boundary1 = fusion_conv2 - tf.nn.avg_pool(fusion_conv2, ksize=[1, 5, 5, 1], strides=[1, 1, 1, 1], padding='SAME')\n",
    "boundary2 = fusion_conv2 - tf.nn.avg_pool(fusion_conv2, ksize=[1, 3, 3, 1], strides=[1, 1, 1, 1], padding='SAME')\n",
    "# print(vgg_r.rconv2_5_.shape, w1.shape)"
   ]
  },
  {
   "cell_type": "code",
   "execution_count": 16,
   "metadata": {},
   "outputs": [
    {
     "name": "stdout",
     "output_type": "stream",
     "text": [
      "(None, 176, 176, 128) (None, 176, 176, 128) (None, 176, 176, 128)\n"
     ]
    }
   ],
   "source": [
    " _conv2 = fusion_conv2    #cw1---F2\n",
    "print(_conv2.shape,boundary1.shape,boundary2.shape)"
   ]
  },
  {
   "cell_type": "code",
   "execution_count": 17,
   "metadata": {},
   "outputs": [],
   "source": [
    "w3, w4 = attention(vgg_r.rconv3_6_, vgg_t.tconv3_6_, name= 'fusion_conv3')\n",
    "\n",
    "fusion_conv3 = w3*vgg_r.rconv3_6_  + w4*vgg_t.tconv3_6_\n"
   ]
  },
  {
   "cell_type": "code",
   "execution_count": 18,
   "metadata": {},
   "outputs": [
    {
     "name": "stdout",
     "output_type": "stream",
     "text": [
      "(None, 88, 88, 128)\n"
     ]
    }
   ],
   "source": [
    "_conv3 = fusion_conv3 # CW2-F3\n",
    "print(_conv3.shape)"
   ]
  },
  {
   "cell_type": "code",
   "execution_count": 19,
   "metadata": {},
   "outputs": [],
   "source": [
    "w_r, w_t = attention(vgg_r.conv6_6, vgg_t.conv6_6, name= 'fusion_conv3')"
   ]
  },
  {
   "cell_type": "code",
   "execution_count": 20,
   "metadata": {},
   "outputs": [
    {
     "name": "stdout",
     "output_type": "stream",
     "text": [
      "(None, 11, 11, 128)\n",
      "(None, 11, 11, 128)\n",
      "(None, 11, 11, 128) (None, 11, 11, 128)\n"
     ]
    }
   ],
   "source": [
    "# con_temp=concatenate([vgg_r.conv6_6, vgg_t.conv6_6], axis=3)\n",
    "\n",
    "# attention1=Conv2D(filters=256,kernel_size=(3,3),padding=\"same\", activation=None, use_bias=True)(con_temp)\n",
    "# attention2=Conv2D(filters=256,kernel_size=(3,3),padding=\"same\", activation=None, use_bias=True)(attention1)\n",
    "# weight=tf.keras.activations.softmax(attention2)\n",
    "# w_r, w_t = tf.split(weight, 2, 3)\n",
    "print(w_r.shape)\n",
    "print(w_t.shape)\n",
    "print(vgg_r.conv6_6.shape,vgg_t.conv6_6.shape)"
   ]
  },
  {
   "cell_type": "code",
   "execution_count": 21,
   "metadata": {},
   "outputs": [
    {
     "name": "stdout",
     "output_type": "stream",
     "text": [
      "(None, 11, 11, 128)\n"
     ]
    }
   ],
   "source": [
    "h_fusion = w_r*vgg_r.conv6_6 + w_t*vgg_t.conv6_6  # CW--F5\n",
    "# vgg_r.conv6_6\n",
    "# vgg_t.conv6_6\n",
    "boundary3 = h_fusion - tf.nn.avg_pool(h_fusion, ksize=[1, 3, 3, 1], strides=[1, 1, 1, 1], padding='SAME')\n",
    "boundary4 = h_fusion - tf.nn.avg_pool(h_fusion, ksize=[1, 5, 5, 1], strides=[1, 1, 1, 1], padding='SAME')\n",
    "boundary5 = h_fusion\n",
    "print(h_fusion.shape)"
   ]
  },
  {
   "cell_type": "code",
   "execution_count": 22,
   "metadata": {},
   "outputs": [],
   "source": [
    "F5_global_pool=global_attention_layer(h_fusion,\"F5_SW_\")"
   ]
  },
  {
   "cell_type": "code",
   "execution_count": 23,
   "metadata": {},
   "outputs": [],
   "source": [
    "from tensorflow.keras.layers import Multiply\n"
   ]
  },
  {
   "cell_type": "code",
   "execution_count": 24,
   "metadata": {},
   "outputs": [],
   "source": [
    "F3_temp=Multiply()([F5_global_pool,_conv3])\n"
   ]
  },
  {
   "cell_type": "code",
   "execution_count": 25,
   "metadata": {},
   "outputs": [],
   "source": [
    "from tensorflow.keras.layers import UpSampling2D,Add\n",
    "F5_upsample=UpSampling2D(size=(8,8))(h_fusion)"
   ]
  },
  {
   "cell_type": "code",
   "execution_count": 26,
   "metadata": {},
   "outputs": [
    {
     "name": "stdout",
     "output_type": "stream",
     "text": [
      "(None, 88, 88, 128) (None, 88, 88, 128)\n"
     ]
    }
   ],
   "source": [
    "print(F5_upsample.shape, F3_temp.shape)"
   ]
  },
  {
   "cell_type": "code",
   "execution_count": 27,
   "metadata": {},
   "outputs": [
    {
     "data": {
      "text/plain": [
       "TensorShape([None, 88, 88, 128])"
      ]
     },
     "execution_count": 27,
     "metadata": {},
     "output_type": "execute_result"
    }
   ],
   "source": [
    "F6=Add()([F5_upsample,F3_temp])\n",
    "F6.shape"
   ]
  },
  {
   "cell_type": "code",
   "execution_count": 28,
   "metadata": {},
   "outputs": [],
   "source": [
    "F2_temp=Multiply()([F5_global_pool,_conv2])"
   ]
  },
  {
   "cell_type": "code",
   "execution_count": 29,
   "metadata": {},
   "outputs": [],
   "source": [
    "F6_upsample=UpSampling2D(size=(2,2))(F6)\n",
    "F5_up_2=UpSampling2D(size=(2,2))(F5_upsample)\n",
    "F7=Add()([F2_temp,F5_up_2,F6_upsample])"
   ]
  },
  {
   "cell_type": "code",
   "execution_count": 30,
   "metadata": {},
   "outputs": [],
   "source": [
    "S3_temp=UpSampling2D(size=(2,2))(F7)\n",
    "S3=Conv2D(filters=1,kernel_size=(1,1),padding=\"same\", activation='sigmoid')(S3_temp)\n"
   ]
  },
  {
   "cell_type": "code",
   "execution_count": 31,
   "metadata": {},
   "outputs": [
    {
     "data": {
      "text/plain": [
       "TensorShape([None, 352, 352, 1])"
      ]
     },
     "execution_count": 31,
     "metadata": {},
     "output_type": "execute_result"
    }
   ],
   "source": [
    "S3.shape"
   ]
  },
  {
   "cell_type": "code",
   "execution_count": 32,
   "metadata": {},
   "outputs": [],
   "source": [
    "from tensorflow.keras import backend as K\n",
    "from tensorflow.keras.metrics import MeanIoU\n",
    "\n",
    "def jaccard_distance_loss(y_true, y_pred, smooth=100):\n",
    "    \n",
    "    intersection = K.sum(K.abs(y_true * y_pred), axis=-1)\n",
    "    sum_ = K.sum(K.abs(y_true) + K.abs(y_pred), axis=-1)\n",
    "    jac = (intersection + smooth) / (sum_ - intersection + smooth)\n",
    "    return (1 - jac) * smooth\n"
   ]
  },
  {
   "cell_type": "code",
   "execution_count": 33,
   "metadata": {},
   "outputs": [
    {
     "name": "stdout",
     "output_type": "stream",
     "text": [
      "Model: \"model\"\n",
      "__________________________________________________________________________________________________\n",
      "Layer (type)                    Output Shape         Param #     Connected to                     \n",
      "==================================================================================================\n",
      "input_2 (InputLayer)            [(None, 352, 352, 3) 0                                            \n",
      "__________________________________________________________________________________________________\n",
      "input_1 (InputLayer)            [(None, 352, 352, 3) 0                                            \n",
      "__________________________________________________________________________________________________\n",
      "conv2d_30 (Conv2D)              (None, 352, 352, 64) 1792        input_2[0][0]                    \n",
      "__________________________________________________________________________________________________\n",
      "conv2d (Conv2D)                 (None, 352, 352, 64) 1792        input_1[0][0]                    \n",
      "__________________________________________________________________________________________________\n",
      "conv2d_31 (Conv2D)              (None, 352, 352, 64) 36928       conv2d_30[0][0]                  \n",
      "__________________________________________________________________________________________________\n",
      "conv2d_1 (Conv2D)               (None, 352, 352, 64) 36928       conv2d[0][0]                     \n",
      "__________________________________________________________________________________________________\n",
      "max_pooling2d_14 (MaxPooling2D) (None, 176, 176, 64) 0           conv2d_31[0][0]                  \n",
      "__________________________________________________________________________________________________\n",
      "max_pooling2d (MaxPooling2D)    (None, 176, 176, 64) 0           conv2d_1[0][0]                   \n",
      "__________________________________________________________________________________________________\n",
      "conv2d_32 (Conv2D)              (None, 176, 176, 128 73856       max_pooling2d_14[0][0]           \n",
      "__________________________________________________________________________________________________\n",
      "conv2d_2 (Conv2D)               (None, 176, 176, 128 73856       max_pooling2d[0][0]              \n",
      "__________________________________________________________________________________________________\n",
      "conv2d_33 (Conv2D)              (None, 176, 176, 128 147584      conv2d_32[0][0]                  \n",
      "__________________________________________________________________________________________________\n",
      "conv2d_3 (Conv2D)               (None, 176, 176, 128 147584      conv2d_2[0][0]                   \n",
      "__________________________________________________________________________________________________\n",
      "max_pooling2d_15 (MaxPooling2D) (None, 88, 88, 128)  0           conv2d_33[0][0]                  \n",
      "__________________________________________________________________________________________________\n",
      "max_pooling2d_1 (MaxPooling2D)  (None, 88, 88, 128)  0           conv2d_3[0][0]                   \n",
      "__________________________________________________________________________________________________\n",
      "conv2d_34 (Conv2D)              (None, 88, 88, 256)  295168      max_pooling2d_15[0][0]           \n",
      "__________________________________________________________________________________________________\n",
      "conv2d_4 (Conv2D)               (None, 88, 88, 256)  295168      max_pooling2d_1[0][0]            \n",
      "__________________________________________________________________________________________________\n",
      "conv2d_35 (Conv2D)              (None, 88, 88, 256)  590080      conv2d_34[0][0]                  \n",
      "__________________________________________________________________________________________________\n",
      "conv2d_5 (Conv2D)               (None, 88, 88, 256)  590080      conv2d_4[0][0]                   \n",
      "__________________________________________________________________________________________________\n",
      "conv2d_36 (Conv2D)              (None, 88, 88, 256)  590080      conv2d_35[0][0]                  \n",
      "__________________________________________________________________________________________________\n",
      "conv2d_6 (Conv2D)               (None, 88, 88, 256)  590080      conv2d_5[0][0]                   \n",
      "__________________________________________________________________________________________________\n",
      "max_pooling2d_16 (MaxPooling2D) (None, 44, 44, 256)  0           conv2d_36[0][0]                  \n",
      "__________________________________________________________________________________________________\n",
      "max_pooling2d_2 (MaxPooling2D)  (None, 44, 44, 256)  0           conv2d_6[0][0]                   \n",
      "__________________________________________________________________________________________________\n",
      "conv2d_37 (Conv2D)              (None, 44, 44, 512)  1180160     max_pooling2d_16[0][0]           \n",
      "__________________________________________________________________________________________________\n",
      "conv2d_7 (Conv2D)               (None, 44, 44, 512)  1180160     max_pooling2d_2[0][0]            \n",
      "__________________________________________________________________________________________________\n",
      "conv2d_38 (Conv2D)              (None, 44, 44, 512)  2359808     conv2d_37[0][0]                  \n",
      "__________________________________________________________________________________________________\n",
      "conv2d_8 (Conv2D)               (None, 44, 44, 512)  2359808     conv2d_7[0][0]                   \n",
      "__________________________________________________________________________________________________\n",
      "conv2d_39 (Conv2D)              (None, 44, 44, 512)  2359808     conv2d_38[0][0]                  \n",
      "__________________________________________________________________________________________________\n",
      "conv2d_9 (Conv2D)               (None, 44, 44, 512)  2359808     conv2d_8[0][0]                   \n",
      "__________________________________________________________________________________________________\n",
      "max_pooling2d_17 (MaxPooling2D) (None, 22, 22, 512)  0           conv2d_39[0][0]                  \n",
      "__________________________________________________________________________________________________\n",
      "max_pooling2d_3 (MaxPooling2D)  (None, 22, 22, 512)  0           conv2d_9[0][0]                   \n",
      "__________________________________________________________________________________________________\n",
      "conv2d_40 (Conv2D)              (None, 22, 22, 512)  2359808     max_pooling2d_17[0][0]           \n",
      "__________________________________________________________________________________________________\n",
      "conv2d_10 (Conv2D)              (None, 22, 22, 512)  2359808     max_pooling2d_3[0][0]            \n",
      "__________________________________________________________________________________________________\n",
      "conv2d_41 (Conv2D)              (None, 22, 22, 512)  2359808     conv2d_40[0][0]                  \n",
      "__________________________________________________________________________________________________\n",
      "conv2d_11 (Conv2D)              (None, 22, 22, 512)  2359808     conv2d_10[0][0]                  \n",
      "__________________________________________________________________________________________________\n",
      "conv2d_42 (Conv2D)              (None, 22, 22, 512)  2359808     conv2d_41[0][0]                  \n",
      "__________________________________________________________________________________________________\n",
      "conv2d_12 (Conv2D)              (None, 22, 22, 512)  2359808     conv2d_11[0][0]                  \n",
      "__________________________________________________________________________________________________\n",
      "max_pooling2d_18 (MaxPooling2D) (None, 11, 11, 512)  0           conv2d_42[0][0]                  \n",
      "__________________________________________________________________________________________________\n",
      "max_pooling2d_4 (MaxPooling2D)  (None, 11, 11, 512)  0           conv2d_12[0][0]                  \n",
      "__________________________________________________________________________________________________\n",
      "conv2d_53 (Conv2D)              (None, 11, 11, 128)  589952      max_pooling2d_18[0][0]           \n",
      "__________________________________________________________________________________________________\n",
      "conv2d_23 (Conv2D)              (None, 11, 11, 128)  589824      max_pooling2d_4[0][0]            \n",
      "__________________________________________________________________________________________________\n",
      "conv2d_54 (Conv2D)              (None, 11, 11, 128)  147584      conv2d_53[0][0]                  \n",
      "__________________________________________________________________________________________________\n",
      "conv2d_24 (Conv2D)              (None, 11, 11, 128)  147456      conv2d_23[0][0]                  \n",
      "__________________________________________________________________________________________________\n",
      "max_pooling2d_25 (MaxPooling2D) (None, 11, 11, 128)  0           conv2d_54[0][0]                  \n",
      "__________________________________________________________________________________________________\n",
      "max_pooling2d_11 (MaxPooling2D) (None, 11, 11, 128)  0           conv2d_24[0][0]                  \n",
      "__________________________________________________________________________________________________\n",
      "conv2d_55 (Conv2D)              (None, 11, 11, 128)  147584      max_pooling2d_25[0][0]           \n",
      "__________________________________________________________________________________________________\n",
      "conv2d_25 (Conv2D)              (None, 11, 11, 128)  147456      max_pooling2d_11[0][0]           \n",
      "__________________________________________________________________________________________________\n",
      "concatenate_6 (Concatenate)     (None, 11, 11, 256)  0           conv2d_53[0][0]                  \n",
      "                                                                 conv2d_55[0][0]                  \n",
      "__________________________________________________________________________________________________\n",
      "concatenate_2 (Concatenate)     (None, 11, 11, 256)  0           conv2d_23[0][0]                  \n",
      "                                                                 conv2d_25[0][0]                  \n",
      "__________________________________________________________________________________________________\n",
      "conv2d_56 (Conv2D)              (None, 11, 11, 128)  295040      concatenate_6[0][0]              \n",
      "__________________________________________________________________________________________________\n",
      "conv2d_26 (Conv2D)              (None, 11, 11, 128)  294912      concatenate_2[0][0]              \n",
      "__________________________________________________________________________________________________\n",
      "max_pooling2d_26 (MaxPooling2D) (None, 11, 11, 128)  0           conv2d_56[0][0]                  \n",
      "__________________________________________________________________________________________________\n",
      "max_pooling2d_12 (MaxPooling2D) (None, 11, 11, 128)  0           conv2d_26[0][0]                  \n",
      "__________________________________________________________________________________________________\n",
      "conv2d_48 (Conv2D)              (None, 88, 88, 128)  294912      conv2d_36[0][0]                  \n",
      "__________________________________________________________________________________________________\n",
      "conv2d_18 (Conv2D)              (None, 88, 88, 128)  295040      conv2d_6[0][0]                   \n",
      "__________________________________________________________________________________________________\n",
      "conv2d_57 (Conv2D)              (None, 11, 11, 128)  147584      max_pooling2d_26[0][0]           \n",
      "__________________________________________________________________________________________________\n",
      "conv2d_27 (Conv2D)              (None, 11, 11, 128)  147456      max_pooling2d_12[0][0]           \n",
      "__________________________________________________________________________________________________\n",
      "max_pooling2d_22 (MaxPooling2D) (None, 88, 88, 128)  0           conv2d_48[0][0]                  \n",
      "__________________________________________________________________________________________________\n",
      "max_pooling2d_8 (MaxPooling2D)  (None, 88, 88, 128)  0           conv2d_18[0][0]                  \n",
      "__________________________________________________________________________________________________\n",
      "max_pooling2d_27 (MaxPooling2D) (None, 11, 11, 128)  0           conv2d_57[0][0]                  \n",
      "__________________________________________________________________________________________________\n",
      "max_pooling2d_13 (MaxPooling2D) (None, 11, 11, 128)  0           conv2d_27[0][0]                  \n",
      "__________________________________________________________________________________________________\n",
      "conv2d_43 (Conv2D)              (None, 176, 176, 128 147456      conv2d_33[0][0]                  \n",
      "__________________________________________________________________________________________________\n",
      "conv2d_13 (Conv2D)              (None, 176, 176, 128 147584      conv2d_3[0][0]                   \n",
      "__________________________________________________________________________________________________\n",
      "conv2d_49 (Conv2D)              (None, 88, 88, 128)  147456      max_pooling2d_22[0][0]           \n",
      "__________________________________________________________________________________________________\n",
      "conv2d_19 (Conv2D)              (None, 88, 88, 128)  147584      max_pooling2d_8[0][0]            \n",
      "__________________________________________________________________________________________________\n",
      "conv2d_58 (Conv2D)              (None, 11, 11, 128)  147584      max_pooling2d_27[0][0]           \n",
      "__________________________________________________________________________________________________\n",
      "conv2d_28 (Conv2D)              (None, 11, 11, 128)  147456      max_pooling2d_13[0][0]           \n",
      "__________________________________________________________________________________________________\n",
      "max_pooling2d_19 (MaxPooling2D) (None, 176, 176, 128 0           conv2d_43[0][0]                  \n",
      "__________________________________________________________________________________________________\n",
      "max_pooling2d_5 (MaxPooling2D)  (None, 176, 176, 128 0           conv2d_13[0][0]                  \n",
      "__________________________________________________________________________________________________\n",
      "max_pooling2d_23 (MaxPooling2D) (None, 88, 88, 128)  0           conv2d_49[0][0]                  \n",
      "__________________________________________________________________________________________________\n",
      "max_pooling2d_9 (MaxPooling2D)  (None, 88, 88, 128)  0           conv2d_19[0][0]                  \n",
      "__________________________________________________________________________________________________\n",
      "concatenate_7 (Concatenate)     (None, 11, 11, 640)  0           conv2d_53[0][0]                  \n",
      "                                                                 conv2d_54[0][0]                  \n",
      "                                                                 conv2d_55[0][0]                  \n",
      "                                                                 conv2d_57[0][0]                  \n",
      "                                                                 conv2d_58[0][0]                  \n",
      "__________________________________________________________________________________________________\n",
      "concatenate_3 (Concatenate)     (None, 11, 11, 640)  0           conv2d_23[0][0]                  \n",
      "                                                                 conv2d_24[0][0]                  \n",
      "                                                                 conv2d_25[0][0]                  \n",
      "                                                                 conv2d_27[0][0]                  \n",
      "                                                                 conv2d_28[0][0]                  \n",
      "__________________________________________________________________________________________________\n",
      "conv2d_44 (Conv2D)              (None, 176, 176, 128 147456      max_pooling2d_19[0][0]           \n",
      "__________________________________________________________________________________________________\n",
      "conv2d_14 (Conv2D)              (None, 176, 176, 128 147584      max_pooling2d_5[0][0]            \n",
      "__________________________________________________________________________________________________\n",
      "conv2d_50 (Conv2D)              (None, 88, 88, 64)   73728       max_pooling2d_23[0][0]           \n",
      "__________________________________________________________________________________________________\n",
      "conv2d_20 (Conv2D)              (None, 88, 88, 64)   73792       max_pooling2d_9[0][0]            \n",
      "__________________________________________________________________________________________________\n",
      "conv2d_59 (Conv2D)              (None, 11, 11, 128)  737408      concatenate_7[0][0]              \n",
      "__________________________________________________________________________________________________\n",
      "conv2d_29 (Conv2D)              (None, 11, 11, 128)  737280      concatenate_3[0][0]              \n",
      "__________________________________________________________________________________________________\n",
      "max_pooling2d_20 (MaxPooling2D) (None, 176, 176, 128 0           conv2d_44[0][0]                  \n",
      "__________________________________________________________________________________________________\n",
      "max_pooling2d_6 (MaxPooling2D)  (None, 176, 176, 128 0           conv2d_14[0][0]                  \n",
      "__________________________________________________________________________________________________\n",
      "max_pooling2d_24 (MaxPooling2D) (None, 88, 88, 64)   0           conv2d_50[0][0]                  \n",
      "__________________________________________________________________________________________________\n",
      "max_pooling2d_10 (MaxPooling2D) (None, 88, 88, 64)   0           conv2d_20[0][0]                  \n",
      "__________________________________________________________________________________________________\n",
      "concatenate_10 (Concatenate)    (None, 11, 11, 256)  0           conv2d_59[0][0]                  \n",
      "                                                                 conv2d_29[0][0]                  \n",
      "__________________________________________________________________________________________________\n",
      "conv2d_45 (Conv2D)              (None, 176, 176, 64) 73728       max_pooling2d_20[0][0]           \n",
      "__________________________________________________________________________________________________\n",
      "conv2d_15 (Conv2D)              (None, 176, 176, 64) 73792       max_pooling2d_6[0][0]            \n",
      "__________________________________________________________________________________________________\n",
      "conv2d_51 (Conv2D)              (None, 88, 88, 64)   36864       max_pooling2d_24[0][0]           \n",
      "__________________________________________________________________________________________________\n",
      "conv2d_21 (Conv2D)              (None, 88, 88, 64)   36928       max_pooling2d_10[0][0]           \n",
      "__________________________________________________________________________________________________\n",
      "conv2d_64 (Conv2D)              (None, 11, 11, 256)  589824      concatenate_10[0][0]             \n",
      "__________________________________________________________________________________________________\n",
      "max_pooling2d_21 (MaxPooling2D) (None, 176, 176, 64) 0           conv2d_45[0][0]                  \n",
      "__________________________________________________________________________________________________\n",
      "max_pooling2d_7 (MaxPooling2D)  (None, 176, 176, 64) 0           conv2d_15[0][0]                  \n",
      "__________________________________________________________________________________________________\n",
      "concatenate_5 (Concatenate)     (None, 88, 88, 384)  0           conv2d_48[0][0]                  \n",
      "                                                                 conv2d_49[0][0]                  \n",
      "                                                                 conv2d_50[0][0]                  \n",
      "                                                                 conv2d_51[0][0]                  \n",
      "__________________________________________________________________________________________________\n",
      "concatenate_1 (Concatenate)     (None, 88, 88, 384)  0           conv2d_18[0][0]                  \n",
      "                                                                 conv2d_19[0][0]                  \n",
      "                                                                 conv2d_20[0][0]                  \n",
      "                                                                 conv2d_21[0][0]                  \n",
      "__________________________________________________________________________________________________\n",
      "conv2d_65 (Conv2D)              (None, 11, 11, 256)  589824      conv2d_64[0][0]                  \n",
      "__________________________________________________________________________________________________\n",
      "conv2d_46 (Conv2D)              (None, 176, 176, 64) 36864       max_pooling2d_21[0][0]           \n",
      "__________________________________________________________________________________________________\n",
      "conv2d_16 (Conv2D)              (None, 176, 176, 64) 36928       max_pooling2d_7[0][0]            \n",
      "__________________________________________________________________________________________________\n",
      "conv2d_52 (Conv2D)              (None, 88, 88, 128)  442368      concatenate_5[0][0]              \n",
      "__________________________________________________________________________________________________\n",
      "conv2d_22 (Conv2D)              (None, 88, 88, 128)  442368      concatenate_1[0][0]              \n",
      "__________________________________________________________________________________________________\n",
      "tf.nn.softmax_2 (TFOpLambda)    (None, 11, 11, 256)  0           conv2d_65[0][0]                  \n",
      "__________________________________________________________________________________________________\n",
      "concatenate_4 (Concatenate)     (None, 176, 176, 384 0           conv2d_43[0][0]                  \n",
      "                                                                 conv2d_44[0][0]                  \n",
      "                                                                 conv2d_45[0][0]                  \n",
      "                                                                 conv2d_46[0][0]                  \n",
      "__________________________________________________________________________________________________\n",
      "concatenate (Concatenate)       (None, 176, 176, 384 0           conv2d_13[0][0]                  \n",
      "                                                                 conv2d_14[0][0]                  \n",
      "                                                                 conv2d_15[0][0]                  \n",
      "                                                                 conv2d_16[0][0]                  \n",
      "__________________________________________________________________________________________________\n",
      "concatenate_9 (Concatenate)     (None, 88, 88, 256)  0           conv2d_52[0][0]                  \n",
      "                                                                 conv2d_22[0][0]                  \n",
      "__________________________________________________________________________________________________\n",
      "tf.split_2 (TFOpLambda)         [(None, 11, 11, 128) 0           tf.nn.softmax_2[0][0]            \n",
      "__________________________________________________________________________________________________\n",
      "conv2d_47 (Conv2D)              (None, 176, 176, 128 442368      concatenate_4[0][0]              \n",
      "__________________________________________________________________________________________________\n",
      "conv2d_17 (Conv2D)              (None, 176, 176, 128 442496      concatenate[0][0]                \n",
      "__________________________________________________________________________________________________\n",
      "conv2d_62 (Conv2D)              (None, 88, 88, 256)  589824      concatenate_9[0][0]              \n",
      "__________________________________________________________________________________________________\n",
      "tf.math.multiply_4 (TFOpLambda) (None, 11, 11, 128)  0           tf.split_2[0][0]                 \n",
      "                                                                 conv2d_59[0][0]                  \n",
      "__________________________________________________________________________________________________\n",
      "tf.math.multiply_5 (TFOpLambda) (None, 11, 11, 128)  0           tf.split_2[0][1]                 \n",
      "                                                                 conv2d_29[0][0]                  \n",
      "__________________________________________________________________________________________________\n",
      "concatenate_8 (Concatenate)     (None, 176, 176, 256 0           conv2d_47[0][0]                  \n",
      "                                                                 conv2d_17[0][0]                  \n",
      "__________________________________________________________________________________________________\n",
      "conv2d_63 (Conv2D)              (None, 88, 88, 256)  589824      conv2d_62[0][0]                  \n",
      "__________________________________________________________________________________________________\n",
      "tf.__operators__.add_2 (TFOpLam (None, 11, 11, 128)  0           tf.math.multiply_4[0][0]         \n",
      "                                                                 tf.math.multiply_5[0][0]         \n",
      "__________________________________________________________________________________________________\n",
      "conv2d_60 (Conv2D)              (None, 176, 176, 256 589824      concatenate_8[0][0]              \n",
      "__________________________________________________________________________________________________\n",
      "tf.nn.softmax_1 (TFOpLambda)    (None, 88, 88, 256)  0           conv2d_63[0][0]                  \n",
      "__________________________________________________________________________________________________\n",
      "tf.math.reduce_mean (TFOpLambda (None, 1, 1, 128)    0           tf.__operators__.add_2[0][0]     \n",
      "__________________________________________________________________________________________________\n",
      "conv2d_61 (Conv2D)              (None, 176, 176, 256 589824      conv2d_60[0][0]                  \n",
      "__________________________________________________________________________________________________\n",
      "tf.split_1 (TFOpLambda)         [(None, 88, 88, 128) 0           tf.nn.softmax_1[0][0]            \n",
      "__________________________________________________________________________________________________\n",
      "F5_SW__ga (Conv2D)              (None, 1, 1, 128)    16384       tf.math.reduce_mean[0][0]        \n",
      "__________________________________________________________________________________________________\n",
      "tf.nn.softmax (TFOpLambda)      (None, 176, 176, 256 0           conv2d_61[0][0]                  \n",
      "__________________________________________________________________________________________________\n",
      "tf.math.multiply_2 (TFOpLambda) (None, 88, 88, 128)  0           tf.split_1[0][0]                 \n",
      "                                                                 conv2d_52[0][0]                  \n",
      "__________________________________________________________________________________________________\n",
      "tf.math.multiply_3 (TFOpLambda) (None, 88, 88, 128)  0           tf.split_1[0][1]                 \n",
      "                                                                 conv2d_22[0][0]                  \n",
      "__________________________________________________________________________________________________\n",
      "tf.math.sigmoid (TFOpLambda)    (None, 1, 1, 128)    0           F5_SW__ga[0][0]                  \n",
      "__________________________________________________________________________________________________\n",
      "tf.split (TFOpLambda)           [(None, 176, 176, 12 0           tf.nn.softmax[0][0]              \n",
      "__________________________________________________________________________________________________\n",
      "tf.__operators__.add_1 (TFOpLam (None, 88, 88, 128)  0           tf.math.multiply_2[0][0]         \n",
      "                                                                 tf.math.multiply_3[0][0]         \n",
      "__________________________________________________________________________________________________\n",
      "tf.math.multiply (TFOpLambda)   (None, 176, 176, 128 0           tf.split[0][0]                   \n",
      "                                                                 conv2d_47[0][0]                  \n",
      "__________________________________________________________________________________________________\n",
      "tf.math.multiply_1 (TFOpLambda) (None, 176, 176, 128 0           tf.split[0][1]                   \n",
      "                                                                 conv2d_17[0][0]                  \n",
      "__________________________________________________________________________________________________\n",
      "up_sampling2d (UpSampling2D)    (None, 88, 88, 128)  0           tf.__operators__.add_2[0][0]     \n",
      "__________________________________________________________________________________________________\n",
      "multiply (Multiply)             (None, 88, 88, 128)  0           tf.math.sigmoid[0][0]            \n",
      "                                                                 tf.__operators__.add_1[0][0]     \n",
      "__________________________________________________________________________________________________\n",
      "tf.__operators__.add (TFOpLambd (None, 176, 176, 128 0           tf.math.multiply[0][0]           \n",
      "                                                                 tf.math.multiply_1[0][0]         \n",
      "__________________________________________________________________________________________________\n",
      "add (Add)                       (None, 88, 88, 128)  0           up_sampling2d[0][0]              \n",
      "                                                                 multiply[0][0]                   \n",
      "__________________________________________________________________________________________________\n",
      "multiply_1 (Multiply)           (None, 176, 176, 128 0           tf.math.sigmoid[0][0]            \n",
      "                                                                 tf.__operators__.add[0][0]       \n",
      "__________________________________________________________________________________________________\n",
      "up_sampling2d_2 (UpSampling2D)  (None, 176, 176, 128 0           up_sampling2d[0][0]              \n",
      "__________________________________________________________________________________________________\n",
      "up_sampling2d_1 (UpSampling2D)  (None, 176, 176, 128 0           add[0][0]                        \n",
      "__________________________________________________________________________________________________\n",
      "add_1 (Add)                     (None, 176, 176, 128 0           multiply_1[0][0]                 \n",
      "                                                                 up_sampling2d_2[0][0]            \n",
      "                                                                 up_sampling2d_1[0][0]            \n",
      "__________________________________________________________________________________________________\n",
      "up_sampling2d_3 (UpSampling2D)  (None, 352, 352, 128 0           add_1[0][0]                      \n",
      "__________________________________________________________________________________________________\n",
      "conv2d_66 (Conv2D)              (None, 352, 352, 1)  129         up_sampling2d_3[0][0]            \n",
      "==================================================================================================\n",
      "Total params: 41,096,705\n",
      "Trainable params: 41,096,705\n",
      "Non-trainable params: 0\n",
      "__________________________________________________________________________________________________\n"
     ]
    }
   ],
   "source": [
    "model=Model(inputs=[vgg_r.Input_r,vgg_t.Input_t], outputs=S3)\n",
    "model.compile(optimizer='adam', loss='binary_crossentropy', metrics=['accuracy'])\n",
    "# model.compile(optimizer='adam', loss=[jaccard_distance_loss],metrics=[MeanIoU(num_classes=2)])\n",
    "# model.compile(optimizer='adam', loss=[jaccard_distance_loss], metrics=['accuracy'])\n",
    "\n",
    "model.summary()\n",
    "\n",
    "\n",
    "\n"
   ]
  },
  {
   "cell_type": "code",
   "execution_count": 34,
   "metadata": {},
   "outputs": [],
   "source": [
    "from sklearn.model_selection import train_test_split\n",
    "X_train, X_test,X_train_t,X_test_t, y_train, y_test = train_test_split(image_dataset_rgb,image_dataset, masks_dataset, test_size = 0.10, random_state = 0)\n",
    "\n",
    "# X_train_quick_test, X_test_quick_test, y_train_quick_test, y_test_quick_test = train_test_split(X_train, y_train, test_size = 0.9, random_state = 0)\n"
   ]
  },
  {
   "cell_type": "code",
   "execution_count": 35,
   "metadata": {},
   "outputs": [
    {
     "name": "stdout",
     "output_type": "stream",
     "text": [
      "(738, 352, 352, 3) (738, 352, 352, 3) (738, 352, 352, 1)\n"
     ]
    }
   ],
   "source": [
    "print(X_train.shape,X_train_t.shape,y_train.shape)"
   ]
  },
  {
   "cell_type": "code",
   "execution_count": 36,
   "metadata": {},
   "outputs": [
    {
     "name": "stdout",
     "output_type": "stream",
     "text": [
      "Epoch 1/10\n",
      "738/738 [==============================] - 163s 214ms/step - loss: 0.3689 - accuracy: 0.8572 - val_loss: 1.3210 - val_accuracy: 0.8752\n",
      "Epoch 2/10\n",
      "738/738 [==============================] - 162s 219ms/step - loss: 0.4288 - accuracy: 0.8574 - val_loss: 0.2875 - val_accuracy: 0.8752\n",
      "Epoch 3/10\n",
      "738/738 [==============================] - 161s 218ms/step - loss: 0.3224 - accuracy: 0.8574 - val_loss: 0.2735 - val_accuracy: 0.8752\n",
      "Epoch 4/10\n",
      "738/738 [==============================] - 161s 218ms/step - loss: 0.3233 - accuracy: 0.8574 - val_loss: 0.3007 - val_accuracy: 0.8752\n",
      "Epoch 5/10\n",
      "738/738 [==============================] - 160s 217ms/step - loss: 0.3238 - accuracy: 0.8574 - val_loss: 0.2840 - val_accuracy: 0.8752\n",
      "Epoch 6/10\n",
      "738/738 [==============================] - 160s 217ms/step - loss: 0.3242 - accuracy: 0.8574 - val_loss: 0.3089 - val_accuracy: 0.8752\n",
      "Epoch 7/10\n",
      "738/738 [==============================] - 162s 219ms/step - loss: 0.3231 - accuracy: 0.8574 - val_loss: 0.2812 - val_accuracy: 0.8752\n",
      "Epoch 8/10\n",
      "738/738 [==============================] - 162s 219ms/step - loss: 0.3200 - accuracy: 0.8574 - val_loss: 0.2807 - val_accuracy: 0.8752\n",
      "Epoch 9/10\n",
      "738/738 [==============================] - 161s 218ms/step - loss: 0.3178 - accuracy: 0.8574 - val_loss: 0.2768 - val_accuracy: 0.8752\n",
      "Epoch 10/10\n",
      "738/738 [==============================] - 162s 219ms/step - loss: 0.3173 - accuracy: 0.8574 - val_loss: 0.2772 - val_accuracy: 0.8752\n"
     ]
    }
   ],
   "source": [
    "history= model.fit([X_train,X_train_t], y_train, \n",
    "                    batch_size = 1,\n",
    "                    verbose=1, \n",
    "                    epochs=10,\n",
    "                    validation_data=([X_test,X_test_t], y_test))"
   ]
  },
  {
   "cell_type": "code",
   "execution_count": 37,
   "metadata": {},
   "outputs": [
    {
     "data": {
      "image/png": "[encoded data removed]",
      "text/plain": [
       "<Figure size 432x288 with 1 Axes>"
      ]
     },
     "metadata": {
      "needs_background": "light"
     },
     "output_type": "display_data"
    }
   ],
   "source": [
    "import matplotlib.pyplot as plt\n",
    "loss_train = history.history['loss']\n",
    "loss_val = history.history['val_loss']\n",
    "epochs = range(1,len(loss_val)+1)\n",
    "plt.plot(epochs, loss_train, 'g', label='Training loss')\n",
    "plt.plot(epochs, loss_val, 'b', label='validation loss')\n",
    "plt.title('Training and Validation loss')\n",
    "plt.xlabel('Epochs')\n",
    "plt.ylabel('Loss')\n",
    "plt.legend()\n",
    "plt.show()"
   ]
  },
  {
   "cell_type": "code",
   "execution_count": 38,
   "metadata": {},
   "outputs": [
    {
     "data": {
      "image/png": "[encoded data removed]",
      "text/plain": [
       "<Figure size 432x288 with 1 Axes>"
      ]
     },
     "metadata": {
      "needs_background": "light"
     },
     "output_type": "display_data"
    }
   ],
   "source": [
    "history.history\n",
    "loss_train = history.history['accuracy']\n",
    "loss_val = history.history['val_accuracy']\n",
    "\n",
    "# loss_train = history.history['mean_io_u']\n",
    "# loss_val = history.history['val_mean_io_u']\n",
    "epochs = range(1,len(loss_val)+1)\n",
    "plt.plot(epochs, loss_train, 'g', label='Training accuracy')\n",
    "plt.plot(epochs, loss_val, 'b', label='validation accuracy')\n",
    "plt.title('Training and Validation accuracy')\n",
    "plt.xlabel('Epochs')\n",
    "plt.ylabel('Accuracy')\n",
    "plt.legend()\n",
    "plt.show()"
   ]
  },
  {
   "cell_type": "code",
   "execution_count": 50,
   "metadata": {},
   "outputs": [
    {
     "name": "stderr",
     "output_type": "stream",
     "text": [
      "/usr/local/lib/python3.6/dist-packages/keras/utils/generic_utils.py:497: CustomMaskWarning: Custom mask layers require a config and must override get_config. When loading, the custom mask layer must be passed to the custom_objects argument.\n",
      "  category=CustomMaskWarning)\n"
     ]
    }
   ],
   "source": [
    "model.save('RT_fully_trained_new.hdf5')"
   ]
  },
  {
   "cell_type": "code",
   "execution_count": 45,
   "metadata": {},
   "outputs": [],
   "source": [
    "# model.load_weights('RT_fully_trained_new.hdf5')"
   ]
  },
  {
   "cell_type": "code",
   "execution_count": 49,
   "metadata": {},
   "outputs": [
    {
     "name": "stdout",
     "output_type": "stream",
     "text": [
      "30\n"
     ]
    },
    {
     "data": {
      "image/png": "[encoded data removed]",
      "text/plain": [
       "<Figure size 432x288 with 1 Axes>"
      ]
     },
     "metadata": {
      "needs_background": "light"
     },
     "output_type": "display_data"
    },
    {
     "data": {
      "image/png": "[encoded data removed]",
      "text/plain": [
       "<Figure size 432x288 with 1 Axes>"
      ]
     },
     "metadata": {
      "needs_background": "light"
     },
     "output_type": "display_data"
    },
    {
     "data": {
      "image/png": "[encoded data removed]",
      "text/plain": [
       "<Figure size 432x288 with 1 Axes>"
      ]
     },
     "metadata": {
      "needs_background": "light"
     },
     "output_type": "display_data"
    },
    {
     "data": {
      "image/png": "[encoded data removed]",
      "text/plain": [
       "<Figure size 432x288 with 1 Axes>"
      ]
     },
     "metadata": {
      "needs_background": "light"
     },
     "output_type": "display_data"
    }
   ],
   "source": [
    "import random\n",
    "\n",
    "index=random.randint(0,len(X_test))\n",
    "img=X_test[index]\n",
    "mask=y_test[index]\n",
    "img_t=X_test_t[index]\n",
    "\n",
    "img=X_train[index]\n",
    "mask=y_train[index]\n",
    "img_t=X_train_t[index]\n",
    "print(index)\n",
    "\n",
    "import matplotlib.pyplot as plt\n",
    "plt.imshow(img)\n",
    "plt.show();\n",
    "plt.imshow(img_t)\n",
    "plt.show()\n",
    "plt.imshow(mask, cmap='gray')\n",
    "plt.show()\n",
    "\n",
    "x=np.array([img])\n",
    "x_t=np.array([img_t])\n",
    "y_output=model.predict([x,x_t])\n",
    "# plt.imshow(y_output[0],cmap='gray')\n",
    "plt.imshow(y_output[0]>0.3,cmap='gray')\n",
    "plt.show()"
   ]
  },
  {
   "cell_type": "code",
   "execution_count": 41,
   "metadata": {},
   "outputs": [],
   "source": [
    "# x_input=[img\n",
    "\n",
    "x=np.array([img])\n",
    "x_t=np.array([img_t])\n",
    "y_output=model.predict([x,x_t])\n",
    "# plt.imshow(y_output[0],cmap='gray')"
   ]
  },
  {
   "cell_type": "code",
   "execution_count": 42,
   "metadata": {},
   "outputs": [
    {
     "data": {
      "image/png": "[encoded data removed]",
      "text/plain": [
       "<Figure size 432x288 with 1 Axes>"
      ]
     },
     "metadata": {
      "needs_background": "light"
     },
     "output_type": "display_data"
    }
   ],
   "source": [
    "plt.imshow(y_output[0],cmap='gray')\n",
    "plt.show()"
   ]
  },
  {
   "cell_type": "code",
   "execution_count": null,
   "metadata": {},
   "outputs": [],
   "source": []
  },
  {
   "cell_type": "code",
   "execution_count": null,
   "metadata": {},
   "outputs": [],
   "source": []
  },
  {
   "cell_type": "code",
   "execution_count": null,
   "metadata": {},
   "outputs": [],
   "source": []
  },
  {
   "cell_type": "code",
   "execution_count": null,
   "metadata": {},
   "outputs": [],
   "source": []
  },
  {
   "cell_type": "code",
   "execution_count": null,
   "metadata": {},
   "outputs": [],
   "source": []
  }
 ],
 "metadata": {
  "kernelspec": {
   "display_name": "Python 3",
   "language": "python",
   "name": "python3"
  },
  "language_info": {
   "codemirror_mode": {
    "name": "ipython",
    "version": 3
   },
   "file_extension": ".py",
   "mimetype": "text/x-python",
   "name": "python",
   "nbconvert_exporter": "python",
   "pygments_lexer": "ipython3",
   "version": "3.8.10"
  }
 },
 "nbformat": 4,
 "nbformat_minor": 2
}
